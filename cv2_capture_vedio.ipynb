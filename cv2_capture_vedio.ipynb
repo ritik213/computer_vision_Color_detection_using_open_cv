{
 "cells": [
  {
   "cell_type": "code",
   "execution_count": 1,
   "id": "0dfbb7be",
   "metadata": {},
   "outputs": [],
   "source": [
    "import numpy as np \n",
    "import cv2"
   ]
  },
  {
   "cell_type": "code",
   "execution_count": 5,
   "id": "55ba24b0",
   "metadata": {},
   "outputs": [],
   "source": [
    "cap = cv2.VideoCapture(0)"
   ]
  },
  {
   "cell_type": "code",
   "execution_count": 9,
   "id": "62af12aa",
   "metadata": {},
   "outputs": [],
   "source": [
    "while True:\n",
    "    _, frame = cap.read()\n",
    "    \n",
    "    #hsv\n",
    "    hsv = cv2.cvtColor(frame, cv2.COLOR_BGR2HSV)\n",
    "    \n",
    "    # range\n",
    "    low_red = np.array([161,150,84])\n",
    "    high_red = np.array([179,255,255])\n",
    "    \n",
    "    #mask\n",
    "    red_mask = cv2. inRange(hsv,low_red, high_red)\n",
    "    mask =cv2.bitwise_and(frame,frame,mask=red_mask)\n",
    "    \n",
    "    cv2.imshow(\"mask\", mask)\n",
    "    cv2.imshow(\"frame\", frame)\n",
    "    \n",
    "    key =cv2.waitKey(1)\n",
    "    if key == 27:\n",
    "        break"
   ]
  }
 ],
 "metadata": {
  "kernelspec": {
   "display_name": "base",
   "language": "python",
   "name": "python3"
  },
  "language_info": {
   "codemirror_mode": {
    "name": "ipython",
    "version": 3
   },
   "file_extension": ".py",
   "mimetype": "text/x-python",
   "name": "python",
   "nbconvert_exporter": "python",
   "pygments_lexer": "ipython3",
   "version": "3.13.5"
  }
 },
 "nbformat": 4,
 "nbformat_minor": 5
}
